{
 "cells": [
  {
   "cell_type": "code",
   "execution_count": 2,
   "metadata": {},
   "outputs": [],
   "source": [
    "ma_liste=[1,2,3,4,5,6,7,8,9,10]\n"
   ]
  },
  {
   "cell_type": "code",
   "execution_count": 3,
   "metadata": {},
   "outputs": [
    {
     "name": "stdout",
     "output_type": "stream",
     "text": [
      "la multiplication de 2*1 = 2\n",
      "la multiplication de 2*2 = 4\n",
      "la multiplication de 2*3 = 6\n",
      "la multiplication de 2*4 = 8\n",
      "la multiplication de 2*5 = 10\n",
      "la multiplication de 2*6 = 12\n",
      "la multiplication de 2*7 = 14\n",
      "la multiplication de 2*8 = 16\n",
      "la multiplication de 2*9 = 18\n",
      "la multiplication de 2*10 = 20\n"
     ]
    }
   ],
   "source": [
    "for ma_valeur in ma_liste:\n",
    "    ma_nouvelle_variable=ma_valeur*2\n",
    "    print('la multiplication de 2*%d = %d' %(ma_valeur,ma_nouvelle_variable))\n"
   ]
  },
  {
   "cell_type": "code",
   "execution_count": 4,
   "metadata": {},
   "outputs": [],
   "source": [
    "#boucle while\n",
    "#while condition:\n",
    "#bloc d'actions"
   ]
  },
  {
   "cell_type": "code",
   "execution_count": 5,
   "metadata": {},
   "outputs": [
    {
     "name": "stdout",
     "output_type": "stream",
     "text": [
      "Mon compteur = 0\n",
      "Ma valeur = 1\n",
      "Mon compteur = 1\n",
      "Ma valeur = 2\n",
      "Mon compteur = 2\n",
      "Ma valeur = 3\n",
      "Mon compteur = 3\n",
      "Ma valeur = 4\n",
      "Mon compteur = 4\n",
      "Ma valeur = 5\n",
      "Mon compteur = 5\n",
      "Ma valeur = 6\n",
      "Mon compteur = 6\n",
      "Ma valeur = 7\n",
      "Mon compteur = 7\n",
      "Ma valeur = 8\n",
      "Mon compteur = 8\n",
      "Ma valeur = 9\n",
      "Mon compteur = 9\n",
      "Ma valeur = 10\n"
     ]
    }
   ],
   "source": [
    "compteur=0\n",
    "while compteur<10:\n",
    "    print('Mon compteur = %d' %(compteur))\n",
    "    print('Ma valeur = %d' %(ma_liste[compteur]))\n",
    "    compteur=compteur+1"
   ]
  },
  {
   "cell_type": "code",
   "execution_count": 10,
   "metadata": {},
   "outputs": [
    {
     "name": "stdout",
     "output_type": "stream",
     "text": [
      "Mon compteur = 1\n",
      "Ma valeur = 2\n",
      "Mon compteur = 3\n",
      "Ma valeur = 4\n",
      "Mon compteur = 5\n",
      "Ma valeur = 6\n",
      "Mon compteur = 7\n",
      "Ma valeur = 8\n",
      "Mon compteur = 9\n",
      "Ma valeur = 10\n"
     ]
    }
   ],
   "source": [
    "compteur=0\n",
    "while compteur<10:\n",
    "    if ma_liste[compteur] %2==0:\n",
    "        print('Mon compteur = %d' %(compteur))\n",
    "        print('Ma valeur = %d' %(ma_liste[compteur]))\n",
    "    compteur=compteur+1"
   ]
  },
  {
   "cell_type": "code",
   "execution_count": 13,
   "metadata": {},
   "outputs": [],
   "source": [
    "prix_de_58_maisons = list(range(125000,700000,10000))"
   ]
  },
  {
   "cell_type": "code",
   "execution_count": 14,
   "metadata": {},
   "outputs": [
    {
     "data": {
      "text/plain": [
       "[125000,\n",
       " 135000,\n",
       " 145000,\n",
       " 155000,\n",
       " 165000,\n",
       " 175000,\n",
       " 185000,\n",
       " 195000,\n",
       " 205000,\n",
       " 215000,\n",
       " 225000,\n",
       " 235000,\n",
       " 245000,\n",
       " 255000,\n",
       " 265000,\n",
       " 275000,\n",
       " 285000,\n",
       " 295000,\n",
       " 305000,\n",
       " 315000,\n",
       " 325000,\n",
       " 335000,\n",
       " 345000,\n",
       " 355000,\n",
       " 365000,\n",
       " 375000,\n",
       " 385000,\n",
       " 395000,\n",
       " 405000,\n",
       " 415000,\n",
       " 425000,\n",
       " 435000,\n",
       " 445000,\n",
       " 455000,\n",
       " 465000,\n",
       " 475000,\n",
       " 485000,\n",
       " 495000,\n",
       " 505000,\n",
       " 515000,\n",
       " 525000,\n",
       " 535000,\n",
       " 545000,\n",
       " 555000,\n",
       " 565000,\n",
       " 575000,\n",
       " 585000,\n",
       " 595000,\n",
       " 605000,\n",
       " 615000,\n",
       " 625000,\n",
       " 635000,\n",
       " 645000,\n",
       " 655000,\n",
       " 665000,\n",
       " 675000,\n",
       " 685000,\n",
       " 695000]"
      ]
     },
     "execution_count": 14,
     "metadata": {},
     "output_type": "execute_result"
    }
   ],
   "source": [
    "prix_de_58_maisons"
   ]
  },
  {
   "cell_type": "code",
   "execution_count": 17,
   "metadata": {},
   "outputs": [
    {
     "data": {
      "text/plain": [
       "58"
      ]
     },
     "execution_count": 17,
     "metadata": {},
     "output_type": "execute_result"
    }
   ],
   "source": [
    "len(prix_de_58_maisons)"
   ]
  },
  {
   "cell_type": "code",
   "execution_count": 18,
   "metadata": {},
   "outputs": [
    {
     "name": "stdout",
     "output_type": "stream",
     "text": [
      "le nombre de maisons avec un prix superieur à 300000 est= 40\n"
     ]
    }
   ],
   "source": [
    "#nombre de maisons avec un prix >300000\n",
    "# créer notre compteur\n",
    "compteur_prix=0\n",
    "for prix in prix_de_58_maisons:\n",
    "    if prix>300000:\n",
    "        compteur_prix=compteur_prix+1\n",
    "print('le nombre de maisons avec un prix superieur à 300000 est= %d' %(compteur_prix) )        "
   ]
  },
  {
   "cell_type": "code",
   "execution_count": 19,
   "metadata": {},
   "outputs": [
    {
     "name": "stdout",
     "output_type": "stream",
     "text": [
      "le nombre de maisons avec un prix superieur ou egal à 250000 et inferieur ou egal à 400000 est= 15\n"
     ]
    }
   ],
   "source": [
    "#nombre de maisons avec un prix compris entre 250000 et 400000\n",
    "# créer notre compteur\n",
    "compteur_prix=0\n",
    "for prix in prix_de_58_maisons:\n",
    "    if prix >= 250000 and prix <= 400000:\n",
    "        compteur_prix=compteur_prix+1\n",
    "print('le nombre de maisons avec un prix superieur ou egal à 250000 et inferieur ou egal à 400000 est= %d' %(compteur_prix) )         \n"
   ]
  },
  {
   "cell_type": "code",
   "execution_count": 20,
   "metadata": {},
   "outputs": [
    {
     "name": "stdout",
     "output_type": "stream",
     "text": [
      "le nombre de maisons avec un prix qui nest pas superieur à 600000 est= 48\n"
     ]
    }
   ],
   "source": [
    "#combien de maisons ont un prix qui n'est pas superieur à 600000\n",
    "# créer notre compteur\n",
    "compteur_prix=0\n",
    "for prix in prix_de_58_maisons:\n",
    "    if prix<=600000:\n",
    "        compteur_prix=compteur_prix+1\n",
    "print('le nombre de maisons avec un prix qui nest pas superieur à 600000 est= %d' %(compteur_prix) )        \n"
   ]
  },
  {
   "cell_type": "code",
   "execution_count": 21,
   "metadata": {},
   "outputs": [
    {
     "name": "stdout",
     "output_type": "stream",
     "text": [
      "le nombre de maisons avec un prix qui n est pas superieur à 600000 est= 48\n"
     ]
    }
   ],
   "source": [
    "#nombre de maisons avec un prix qui n est pas >600000\n",
    "# créer notre compteur\n",
    "compteur_prix=0\n",
    "for prix in prix_de_58_maisons:\n",
    "    if not prix>600000:\n",
    "        compteur_prix=compteur_prix+1\n",
    "print('le nombre de maisons avec un prix qui n est pas superieur à 600000 est= %d' %(compteur_prix) )        "
   ]
  },
  {
   "cell_type": "code",
   "execution_count": 24,
   "metadata": {},
   "outputs": [
    {
     "name": "stdout",
     "output_type": "stream",
     "text": [
      "le nombre de maisons avec un prix inf à 150000 ou sup à 650000 est= 8\n"
     ]
    }
   ],
   "source": [
    "#combien de maisons ont un prix inferieur à 150000 ou superieur à 650000\n",
    "# créer notre compteur\n",
    "compteur_prix=0\n",
    "for prix in prix_de_58_maisons:\n",
    "    if prix < 150000 or prix > 650000:\n",
    "        compteur_prix=compteur_prix+1\n",
    "print('le nombre de maisons avec un prix inf à 150000 ou sup à 650000 est= %d' %(compteur_prix) )         \n",
    "\n"
   ]
  },
  {
   "cell_type": "markdown",
   "metadata": {},
   "source": []
  },
  {
   "cell_type": "code",
   "execution_count": 25,
   "metadata": {},
   "outputs": [],
   "source": [
    "# fonction en python\n",
    "#def ma_fonction(arg1, arg2, arg3, ...)\n",
    "#code\n",
    "#code\n",
    "#resultat= code\n",
    "#return resultat\n"
   ]
  },
  {
   "cell_type": "code",
   "execution_count": 29,
   "metadata": {},
   "outputs": [],
   "source": [
    "def maisons_prix_superieur_a_300000(prix_de_58_maisons):\n",
    "    nbre_maisons=0\n",
    "    for prix in prix_de_58_maisons:\n",
    "        if prix>300000:\n",
    "            nbre_maisons=nbre_maisons+1\n",
    "            \n",
    "    return nombre_maisons\n",
    "    "
   ]
  },
  {
   "cell_type": "code",
   "execution_count": 28,
   "metadata": {},
   "outputs": [
    {
     "data": {
      "text/plain": [
       "40"
      ]
     },
     "execution_count": 28,
     "metadata": {},
     "output_type": "execute_result"
    }
   ],
   "source": [
    "maisons_prix_superieur_a_300000(prix_de_58_maisons)"
   ]
  },
  {
   "cell_type": "code",
   "execution_count": 30,
   "metadata": {},
   "outputs": [],
   "source": [
    "def maisons_prix_superieur_a_300000(prix_de_58_maisons):\n",
    "    nbre_maisons=0\n",
    "    nbre_maisons_total=0\n",
    "    for prix in prix_de_58_maisons:\n",
    "        if prix>300000:\n",
    "            nbre_maisons=nbre_maisons+1\n",
    "        nbre_maisons_total=nbre_maisons_total+1       \n",
    "    return (nbre_maisons,nbre_maisons_total)"
   ]
  },
  {
   "cell_type": "code",
   "execution_count": 31,
   "metadata": {},
   "outputs": [],
   "source": [
    "nbre_maisons,nbre_maisons_total=maisons_prix_superieur_a_300000(prix_de_58_maisons)"
   ]
  },
  {
   "cell_type": "code",
   "execution_count": 32,
   "metadata": {},
   "outputs": [
    {
     "name": "stdout",
     "output_type": "stream",
     "text": [
      "40\n",
      "58\n"
     ]
    }
   ],
   "source": [
    "print(nbre_maisons)\n",
    "print(nbre_maisons_total)"
   ]
  },
  {
   "cell_type": "code",
   "execution_count": null,
   "metadata": {},
   "outputs": [],
   "source": []
  }
 ],
 "metadata": {
  "kernelspec": {
   "display_name": "Python 3",
   "language": "python",
   "name": "python3"
  },
  "language_info": {
   "codemirror_mode": {
    "name": "ipython",
    "version": 3
   },
   "file_extension": ".py",
   "mimetype": "text/x-python",
   "name": "python",
   "nbconvert_exporter": "python",
   "pygments_lexer": "ipython3",
   "version": "3.8.3"
  }
 },
 "nbformat": 4,
 "nbformat_minor": 4
}
