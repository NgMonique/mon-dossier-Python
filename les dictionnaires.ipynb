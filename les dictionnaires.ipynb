{
 "cells": [
  {
   "cell_type": "code",
   "execution_count": 2,
   "metadata": {},
   "outputs": [],
   "source": [
    "mon_dictionnaire={\n",
    "    \"marie\":15,\n",
    "    \"thomas\":12,\n",
    "    \"julien\":\"absent\",\n",
    "    \"elise\":9,\n",
    "    \"samuel\":17,\n",
    "}"
   ]
  },
  {
   "cell_type": "code",
   "execution_count": 3,
   "metadata": {},
   "outputs": [
    {
     "data": {
      "text/plain": [
       "{'marie': 15, 'thomas': 12, 'julien': 'absent', 'elise': 9, 'samuel': 17}"
      ]
     },
     "execution_count": 3,
     "metadata": {},
     "output_type": "execute_result"
    }
   ],
   "source": [
    "mon_dictionnaire"
   ]
  },
  {
   "cell_type": "code",
   "execution_count": 4,
   "metadata": {},
   "outputs": [
    {
     "data": {
      "text/plain": [
       "17"
      ]
     },
     "execution_count": 4,
     "metadata": {},
     "output_type": "execute_result"
    }
   ],
   "source": [
    "#je veux connaître la note de samuel\n",
    "mon_dictionnaire['samuel']"
   ]
  },
  {
   "cell_type": "code",
   "execution_count": 5,
   "metadata": {},
   "outputs": [
    {
     "name": "stdout",
     "output_type": "stream",
     "text": [
      "{'marie': 15, 'thomas': 12, 'julien': 'absent', 'elise': 9, 'samuel': 17, 'julie': 9}\n"
     ]
    }
   ],
   "source": [
    "#ajout d un nouveau couple de clé valeur\n",
    "mon_dictionnaire['julie']=9\n",
    "print(mon_dictionnaire)"
   ]
  },
  {
   "cell_type": "code",
   "execution_count": 6,
   "metadata": {},
   "outputs": [
    {
     "name": "stdout",
     "output_type": "stream",
     "text": [
      "{'marie': 15, 'thomas': 12, 'julien': 13, 'elise': 9, 'samuel': 17, 'julie': 9}\n"
     ]
    }
   ],
   "source": [
    "mon_dictionnaire['julien']=13\n",
    "print(mon_dictionnaire)"
   ]
  },
  {
   "cell_type": "code",
   "execution_count": 7,
   "metadata": {},
   "outputs": [],
   "source": [
    "#dans un dictionnaire une clé est unique\n",
    "#pour supprimer une clé et sa valeur on utilise del\n",
    "del mon_dictionnaire['julie']"
   ]
  },
  {
   "cell_type": "code",
   "execution_count": 8,
   "metadata": {},
   "outputs": [
    {
     "data": {
      "text/plain": [
       "{'marie': 15, 'thomas': 12, 'julien': 13, 'elise': 9, 'samuel': 17}"
      ]
     },
     "execution_count": 8,
     "metadata": {},
     "output_type": "execute_result"
    }
   ],
   "source": [
    "mon_dictionnaire"
   ]
  },
  {
   "cell_type": "code",
   "execution_count": 9,
   "metadata": {},
   "outputs": [
    {
     "data": {
      "text/plain": [
       "dict_keys(['marie', 'thomas', 'julien', 'elise', 'samuel'])"
      ]
     },
     "execution_count": 9,
     "metadata": {},
     "output_type": "execute_result"
    }
   ],
   "source": [
    "#boucle for pour parcourir un dictionnaire\n",
    "mon_dictionnaire.keys()"
   ]
  },
  {
   "cell_type": "code",
   "execution_count": 10,
   "metadata": {},
   "outputs": [
    {
     "data": {
      "text/plain": [
       "dict_values([15, 12, 13, 9, 17])"
      ]
     },
     "execution_count": 10,
     "metadata": {},
     "output_type": "execute_result"
    }
   ],
   "source": [
    "mon_dictionnaire.values()"
   ]
  },
  {
   "cell_type": "code",
   "execution_count": 17,
   "metadata": {},
   "outputs": [
    {
     "name": "stdout",
     "output_type": "stream",
     "text": [
      "marie\n",
      "thomas\n",
      "julien\n",
      "elise\n",
      "samuel\n"
     ]
    }
   ],
   "source": [
    "#parcourir un dictionnaire par clé\n",
    "for cle in mon_dictionnaire.keys():\n",
    "    print(cle)"
   ]
  },
  {
   "cell_type": "code",
   "execution_count": 19,
   "metadata": {},
   "outputs": [
    {
     "name": "stdout",
     "output_type": "stream",
     "text": [
      "15\n",
      "12\n",
      "13\n",
      "9\n",
      "17\n"
     ]
    }
   ],
   "source": [
    "#parcourir un dictionnaire par valeur\n",
    "for valeur in mon_dictionnaire.values():\n",
    "    print(valeur)"
   ]
  },
  {
   "cell_type": "code",
   "execution_count": 20,
   "metadata": {},
   "outputs": [
    {
     "data": {
      "text/plain": [
       "dict_items([('marie', 15), ('thomas', 12), ('julien', 13), ('elise', 9), ('samuel', 17)])"
      ]
     },
     "execution_count": 20,
     "metadata": {},
     "output_type": "execute_result"
    }
   ],
   "source": [
    "#parcourir un dictionnaire par couple (cle,valeur)\n",
    "#on utilise item\n",
    "mon_dictionnaire.items()"
   ]
  },
  {
   "cell_type": "code",
   "execution_count": 21,
   "metadata": {},
   "outputs": [
    {
     "name": "stdout",
     "output_type": "stream",
     "text": [
      "marie 15\n",
      "thomas 12\n",
      "julien 13\n",
      "elise 9\n",
      "samuel 17\n"
     ]
    }
   ],
   "source": [
    "#on a ici une liste qui contient des tuples\n",
    "for (cle,valeur)in mon_dictionnaire.items():\n",
    "    print(cle,valeur)"
   ]
  },
  {
   "cell_type": "code",
   "execution_count": 26,
   "metadata": {},
   "outputs": [],
   "source": [
    "#exercices\n",
    "notes_eleves={\n",
    "    'Marie':15,\n",
    "    'Samuel':17,\n",
    "    'Gaston':12,\n",
    "    'Fred':10,\n",
    "    'Mae':5,\n",
    "    'Julie':15,\n",
    "    'Zoe':7,\n",
    "    'Claire':20,\n",
    "    'Chloe':8,\n",
    "    'Julien':14,\n",
    "    'Gael':9,\n",
    "    'Samia':15,\n",
    "    'Omar':11,\n",
    "    'Gabriel':16,\n",
    "    'Manon':2,\n",
    "           \n",
    "}"
   ]
  },
  {
   "cell_type": "code",
   "execution_count": 28,
   "metadata": {},
   "outputs": [
    {
     "data": {
      "text/plain": [
       "[15, 17, 12, 10, 5, 15, 7, 20, 8, 14, 9, 15, 11, 16, 2]"
      ]
     },
     "execution_count": 28,
     "metadata": {},
     "output_type": "execute_result"
    }
   ],
   "source": [
    "list(notes_eleves.values())"
   ]
  },
  {
   "cell_type": "code",
   "execution_count": 29,
   "metadata": {},
   "outputs": [],
   "source": [
    "#moyenne generale de la classe\n",
    "import numpy"
   ]
  },
  {
   "cell_type": "code",
   "execution_count": 36,
   "metadata": {},
   "outputs": [],
   "source": [
    "moyenne_generale=numpy.mean(list(notes_eleves.values()))"
   ]
  },
  {
   "cell_type": "code",
   "execution_count": 37,
   "metadata": {},
   "outputs": [
    {
     "data": {
      "text/plain": [
       "11.733333333333333"
      ]
     },
     "execution_count": 37,
     "metadata": {},
     "output_type": "execute_result"
    }
   ],
   "source": [
    "moyenne_generale"
   ]
  },
  {
   "cell_type": "code",
   "execution_count": 41,
   "metadata": {},
   "outputs": [
    {
     "data": {
      "text/plain": [
       "15"
      ]
     },
     "execution_count": 41,
     "metadata": {},
     "output_type": "execute_result"
    }
   ],
   "source": [
    "len(notes_eleves.values())"
   ]
  },
  {
   "cell_type": "code",
   "execution_count": 40,
   "metadata": {},
   "outputs": [
    {
     "name": "stdout",
     "output_type": "stream",
     "text": [
      "le nombre total déleves de la classe=15\n"
     ]
    }
   ],
   "source": [
    "nombre_déleves=len(notes_eleves)\n",
    "print('le nombre total déleves de la classe=%d' %(nombre_déleves))"
   ]
  },
  {
   "cell_type": "code",
   "execution_count": 48,
   "metadata": {},
   "outputs": [
    {
     "name": "stdout",
     "output_type": "stream",
     "text": [
      "le nombre d élèves avec une note > 11.733333 est de 8 elèves\n"
     ]
    }
   ],
   "source": [
    "#nbre d éleves avec notes superieure à la moyenne\n",
    "nombre_eleves_notes_superieure_moyenne=0\n",
    "for valeur in notes_eleves.values():\n",
    "    if valeur > moyenne_generale:\n",
    "        nombre_eleves_notes_superieure_moyenne=nombre_eleves_notes_superieure_moyenne+1\n",
    "print('le nombre d élèves avec une note > %2f est de %d elèves' %(moyenne_generale,nombre_eleves_notes_superieure_moyenne))  \n",
    "        "
   ]
  },
  {
   "cell_type": "code",
   "execution_count": null,
   "metadata": {},
   "outputs": [],
   "source": []
  }
 ],
 "metadata": {
  "kernelspec": {
   "display_name": "Python 3",
   "language": "python",
   "name": "python3"
  },
  "language_info": {
   "codemirror_mode": {
    "name": "ipython",
    "version": 3
   },
   "file_extension": ".py",
   "mimetype": "text/x-python",
   "name": "python",
   "nbconvert_exporter": "python",
   "pygments_lexer": "ipython3",
   "version": "3.8.3"
  }
 },
 "nbformat": 4,
 "nbformat_minor": 4
}
